{
 "cells": [
  {
   "cell_type": "code",
   "execution_count": 1,
   "id": "4704e369-a211-411e-bc33-f741053ef85c",
   "metadata": {},
   "outputs": [
    {
     "data": {
      "text/plain": [
       "2×2 Matrix{ComplexF64}:\n",
       " 1.2+1.3im  3.2-1.2im\n",
       " 2.3+3.4im  6.7-3.4im"
      ]
     },
     "execution_count": 1,
     "metadata": {},
     "output_type": "execute_result"
    }
   ],
   "source": [
    "A = [\n",
    "    1.2 + 1.3*im 3.2 - 1.2*im; \n",
    "    2.3 + 3.4*im 6.7 - 3.4*im ]"
   ]
  },
  {
   "cell_type": "code",
   "execution_count": 4,
   "id": "b1dce0c6-6fda-4fed-a91f-d741969cc80d",
   "metadata": {},
   "outputs": [
    {
     "data": {
      "text/plain": [
       "2×2 adjoint(::Matrix{ComplexF64}) with eltype ComplexF64:\n",
       " 1.2-1.3im  2.3-3.4im\n",
       " 3.2+1.2im  6.7+3.4im"
      ]
     },
     "execution_count": 4,
     "metadata": {},
     "output_type": "execute_result"
    }
   ],
   "source": [
    "A'"
   ]
  },
  {
   "cell_type": "code",
   "execution_count": 2,
   "id": "d850daad-2049-4ff3-95bc-48371509ce2e",
   "metadata": {},
   "outputs": [
    {
     "data": {
      "text/plain": [
       "2×2 adjoint(::Matrix{ComplexF64}) with eltype ComplexF64:\n",
       " 1.2-1.3im  2.3-3.4im\n",
       " 3.2+1.2im  6.7+3.4im"
      ]
     },
     "execution_count": 2,
     "metadata": {},
     "output_type": "execute_result"
    }
   ],
   "source": [
    "adjoint(A)"
   ]
  },
  {
   "cell_type": "code",
   "execution_count": null,
   "id": "b6b4dd05-47d1-43cf-8c9c-4d0528e1ca60",
   "metadata": {},
   "outputs": [],
   "source": []
  }
 ],
 "metadata": {
  "kernelspec": {
   "display_name": "Julia 1.6.3",
   "language": "julia",
   "name": "julia-1.6"
  },
  "language_info": {
   "file_extension": ".jl",
   "mimetype": "application/julia",
   "name": "julia",
   "version": "1.6.3"
  }
 },
 "nbformat": 4,
 "nbformat_minor": 5
}
